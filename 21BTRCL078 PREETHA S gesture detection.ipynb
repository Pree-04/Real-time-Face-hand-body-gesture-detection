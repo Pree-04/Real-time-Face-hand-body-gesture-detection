{
 "cells": [
  {
   "cell_type": "markdown",
   "id": "4b98e338",
   "metadata": {},
   "source": [
    "# Name: PREETHA S\n",
    "# USN: 21BTRCL078\n",
    "# COMPUTER VISION AND IMAGE PROCESSING\n",
    "# ASSIGNMENT - 2\n",
    "# BODY, FACE AND HAND GESTURES RECOGNITION"
   ]
  },
  {
   "cell_type": "code",
   "execution_count": 1,
   "id": "a6a611d5",
   "metadata": {},
   "outputs": [],
   "source": [
    "import cv2\n",
    "import mediapipe as mp"
   ]
  },
  {
   "cell_type": "code",
   "execution_count": 2,
   "id": "5a0e4753",
   "metadata": {},
   "outputs": [],
   "source": [
    "#Initialize Mediapipe hands, face and pose models\n",
    "mp_hands = mp.solutions.hands\n",
    "mp_face_detection = mp.solutions.face_detection\n",
    "mp_pose = mp.solutions.pose"
   ]
  },
  {
   "cell_type": "code",
   "execution_count": 3,
   "id": "9940db75",
   "metadata": {},
   "outputs": [],
   "source": [
    "#Initialize the drawing utilities for hands, face and pose\n",
    "mp_drawing = mp.solutions.drawing_utils"
   ]
  },
  {
   "cell_type": "code",
   "execution_count": 4,
   "id": "82ad2065",
   "metadata": {},
   "outputs": [],
   "source": [
    "#Initialize the webcam\n",
    "cap = cv2.VideoCapture(0)\n",
    "\n",
    "if not cap.isOpened():\n",
    "    print(\"Error: Could not open webcam.\")\n",
    "    exit()"
   ]
  },
  {
   "cell_type": "code",
   "execution_count": 5,
   "id": "3297ad9d",
   "metadata": {},
   "outputs": [
    {
     "name": "stderr",
     "output_type": "stream",
     "text": [
      "C:\\Users\\preet\\anaconda3\\lib\\site-packages\\google\\protobuf\\symbol_database.py:55: UserWarning: SymbolDatabase.GetPrototype() is deprecated. Please use message_factory.GetMessageClass() instead. SymbolDatabase.GetPrototype() will be removed soon.\n",
      "  warnings.warn('SymbolDatabase.GetPrototype() is deprecated. Please '\n"
     ]
    }
   ],
   "source": [
    "#Main loop\n",
    "with mp_hands.Hands(min_detection_confidence=0.5, min_tracking_confidence=0.5) as hands,\\\n",
    "     mp_face_detection.FaceDetection(min_detection_confidence=0.5) as face_detection,\\\n",
    "     mp_pose.Pose(min_detection_confidence=0.5, min_tracking_confidence=0.5) as pose:\n",
    "    \n",
    "    while cap.isOpened():\n",
    "        ret, frame = cap.read()\n",
    "        if not ret:\n",
    "            print(\"Error: Could not read frame from webcam.\")\n",
    "            continue\n",
    "            \n",
    "        #Flip the frame horizontally for a later selfie-view display\n",
    "        frame = cv2.flip(frame, 1)\n",
    "        \n",
    "        #Convert the BGR image to RGB\n",
    "        rgb_frame = cv2.cvtColor(frame, cv2.COLOR_BGR2RGB)\n",
    "        \n",
    "        #Process hands\n",
    "        results_hands = hands.process(rgb_frame)\n",
    "        if results_hands.multi_hand_landmarks:\n",
    "            for hand_landmarks in results_hands.multi_hand_landmarks:\n",
    "                mp_drawing.draw_landmarks(frame, hand_landmarks, mp_hands.HAND_CONNECTIONS)\n",
    "                \n",
    "                \n",
    "        #Process face\n",
    "        results_face = face_detection.process(rgb_frame)\n",
    "        if results_face.detections:\n",
    "            for detection in results_face.detections:\n",
    "                mp_drawing.draw_detection(frame, detection)\n",
    "\n",
    "        #Process pose\n",
    "        results_pose = pose.process(rgb_frame)\n",
    "        if results_pose.pose_landmarks:\n",
    "            mp_drawing.draw_landmarks(frame, results_pose.pose_landmarks, mp_pose.POSE_CONNECTIONS)\n",
    "\n",
    "        #Displaying the output\n",
    "        cv2.imshow('Gesture Recognition', frame)\n",
    "\n",
    "        #Break the loop when 'q' is pressed\n",
    "        if cv2.waitKey(1) & 0xFF == ord('q'):\n",
    "            break"
   ]
  },
  {
   "cell_type": "code",
   "execution_count": 6,
   "id": "5c4d36ff",
   "metadata": {},
   "outputs": [],
   "source": [
    "#Release the webcam and close all windows\n",
    "cap.release()\n",
    "cv2.destroyAllWindows()"
   ]
  },
  {
   "cell_type": "code",
   "execution_count": null,
   "id": "5445891d",
   "metadata": {},
   "outputs": [],
   "source": []
  },
  {
   "cell_type": "code",
   "execution_count": null,
   "id": "8ac0cbae",
   "metadata": {},
   "outputs": [],
   "source": []
  },
  {
   "cell_type": "code",
   "execution_count": null,
   "id": "0bb3fb84",
   "metadata": {},
   "outputs": [],
   "source": []
  }
 ],
 "metadata": {
  "kernelspec": {
   "display_name": "Python 3 (ipykernel)",
   "language": "python",
   "name": "python3"
  },
  "language_info": {
   "codemirror_mode": {
    "name": "ipython",
    "version": 3
   },
   "file_extension": ".py",
   "mimetype": "text/x-python",
   "name": "python",
   "nbconvert_exporter": "python",
   "pygments_lexer": "ipython3",
   "version": "3.9.13"
  }
 },
 "nbformat": 4,
 "nbformat_minor": 5
}
